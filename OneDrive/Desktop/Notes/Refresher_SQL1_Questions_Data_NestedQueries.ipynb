{
  "nbformat": 4,
  "nbformat_minor": 0,
  "metadata": {
    "colab": {
      "provenance": []
    },
    "kernelspec": {
      "name": "python3",
      "display_name": "Python 3"
    },
    "language_info": {
      "name": "python"
    }
  },
  "cells": [
    {
      "cell_type": "code",
      "execution_count": 12,
      "metadata": {
        "colab": {
          "base_uri": "https://localhost:8080/"
        },
        "id": "-mZV-K34adMa",
        "outputId": "183fa8cc-233c-419f-f1f6-0b4d37149261"
      },
      "outputs": [
        {
          "output_type": "stream",
          "name": "stdout",
          "text": [
            "total 4\n",
            "drwxr-xr-x 1 root root 4096 Feb 17 19:30 sample_data\n"
          ]
        }
      ],
      "source": [
        "! rm -rf test.db*\n",
        "! ls -lrt"
      ]
    },
    {
      "cell_type": "code",
      "source": [
        "# CREATING THE TABLE\n",
        "import sqlite3\n",
        "\n",
        "conn = sqlite3.connect('test.db', timeout=10)\n",
        "print(\"Opened database successfully\");\n",
        "\n",
        "conn.execute('''\n",
        "CREATE TABLE IF NOT EXISTS galleries (id integer, \n",
        "                      city text);''')\n",
        "\n",
        "conn.execute('''\n",
        "CREATE TABLE IF NOT EXISTS paintings (id integer, \n",
        "                      name text,\n",
        "                      gallery_id int,\n",
        "                      price integer);''')\n",
        "\n",
        "conn.execute('''\n",
        "CREATE TABLE IF NOT EXISTS sales_agents (id integer, \n",
        "                      last_name text,\n",
        "                      first_name text,\n",
        "                      gallery_id int,\n",
        "                      agency_fee integer);''')\n",
        "\n",
        "conn.execute('''\n",
        "CREATE TABLE IF NOT EXISTS managers (id integer, \n",
        "                      gallery_id id);''')\n",
        "\n",
        "conn.commit()\n",
        "\n",
        "print(\"Table created successfully\");\n",
        "\n",
        "# conn.close()"
      ],
      "metadata": {
        "colab": {
          "base_uri": "https://localhost:8080/"
        },
        "id": "gVO2lkrfakye",
        "outputId": "3c1e74df-b017-4139-9b51-5827b2f656b0"
      },
      "execution_count": 13,
      "outputs": [
        {
          "output_type": "stream",
          "name": "stdout",
          "text": [
            "Opened database successfully\n",
            "Table created successfully\n"
          ]
        }
      ]
    },
    {
      "cell_type": "code",
      "source": [
        "conn.execute(\"INSERT INTO galleries VALUES(1 , 'London');\")\n",
        "conn.execute(\"INSERT INTO galleries VALUES(2 , 'New York');\")\n",
        "conn.execute(\"INSERT INTO galleries VALUES(3 , 'Munich');\")"
      ],
      "metadata": {
        "colab": {
          "base_uri": "https://localhost:8080/"
        },
        "id": "wrB4-QB1am03",
        "outputId": "d7765187-794f-4de6-e62d-f8f6e13f512e"
      },
      "execution_count": 14,
      "outputs": [
        {
          "output_type": "execute_result",
          "data": {
            "text/plain": [
              "<sqlite3.Cursor at 0x7fce5610f340>"
            ]
          },
          "metadata": {},
          "execution_count": 14
        }
      ]
    },
    {
      "cell_type": "code",
      "source": [
        "cursor = conn.execute(''' SELECT *\n",
        "                          FROM galleries\n",
        "                          ''')\n",
        "\n",
        "for row in cursor:\n",
        "  print(row)"
      ],
      "metadata": {
        "colab": {
          "base_uri": "https://localhost:8080/"
        },
        "id": "L4fcUh8Maop6",
        "outputId": "87ea145c-da20-42c3-9419-0a280b451abc"
      },
      "execution_count": 15,
      "outputs": [
        {
          "output_type": "stream",
          "name": "stdout",
          "text": [
            "(1, 'London')\n",
            "(2, 'New York')\n",
            "(3, 'Munich')\n"
          ]
        }
      ]
    },
    {
      "cell_type": "code",
      "source": [
        "conn.execute(\"INSERT INTO paintings VALUES(1,\t'Patterns',\t3,\t5000);\")\n",
        "conn.execute(\"INSERT INTO paintings VALUES(2,\t'Ringer',\t1,\t4500);\")\n",
        "conn.execute(\"INSERT INTO paintings VALUES(3,\t'Gift',\t1,\t3200);\")\n",
        "conn.execute(\"INSERT INTO paintings VALUES(4,\t'Violin Lessons',\t2,\t6700);\")\n",
        "conn.execute(\"INSERT INTO paintings VALUES(5,\t'Curiosity',\t2,\t9800);\")"
      ],
      "metadata": {
        "colab": {
          "base_uri": "https://localhost:8080/"
        },
        "id": "89vFk3qHaqct",
        "outputId": "e6de5ec2-1786-4b5c-c86a-251b2600117d"
      },
      "execution_count": 16,
      "outputs": [
        {
          "output_type": "execute_result",
          "data": {
            "text/plain": [
              "<sqlite3.Cursor at 0x7fce5610f2d0>"
            ]
          },
          "metadata": {},
          "execution_count": 16
        }
      ]
    },
    {
      "cell_type": "code",
      "source": [
        "cursor = conn.execute(''' SELECT *\n",
        "                          FROM paintings\n",
        "                          ''')\n",
        "\n",
        "for row in cursor:\n",
        "  print(row)"
      ],
      "metadata": {
        "colab": {
          "base_uri": "https://localhost:8080/"
        },
        "id": "wJxmNrhlasWf",
        "outputId": "554a10c2-7899-4727-ce1b-c07190c58c7f"
      },
      "execution_count": 17,
      "outputs": [
        {
          "output_type": "stream",
          "name": "stdout",
          "text": [
            "(1, 'Patterns', 3, 5000)\n",
            "(2, 'Ringer', 1, 4500)\n",
            "(3, 'Gift', 1, 3200)\n",
            "(4, 'Violin Lessons', 2, 6700)\n",
            "(5, 'Curiosity', 2, 9800)\n"
          ]
        }
      ]
    },
    {
      "cell_type": "code",
      "source": [
        "conn.execute(\"INSERT INTO sales_agents VALUES(1,\t'Brown',\t'Denis',\t2,\t2250);\")\n",
        "conn.execute(\"INSERT INTO sales_agents VALUES(2,\t'White',\t'Kate',\t3,\t3120);\")\n",
        "conn.execute(\"INSERT INTO sales_agents VALUES(3,\t'Black',\t'Sarah',\t2,\t1640);\")\n",
        "conn.execute(\"INSERT INTO sales_agents VALUES(4,\t'Smith',\t'Helen',\t1,\t4500);\")\n",
        "conn.execute(\"INSERT INTO sales_agents VALUES(5,\t'Stewart',\t'Tom',\t3,\t2130);\")"
      ],
      "metadata": {
        "colab": {
          "base_uri": "https://localhost:8080/"
        },
        "id": "vGDaQF3RauK5",
        "outputId": "8ad16988-71fa-41c9-d9f7-57b8053de0a9"
      },
      "execution_count": 18,
      "outputs": [
        {
          "output_type": "execute_result",
          "data": {
            "text/plain": [
              "<sqlite3.Cursor at 0x7fce5610f960>"
            ]
          },
          "metadata": {},
          "execution_count": 18
        }
      ]
    },
    {
      "cell_type": "code",
      "source": [
        "cursor = conn.execute(''' SELECT *\n",
        "                          FROM sales_agents\n",
        "                          ''')\n",
        "\n",
        "for row in cursor:\n",
        "  print(row)"
      ],
      "metadata": {
        "colab": {
          "base_uri": "https://localhost:8080/"
        },
        "id": "GOk5uVa4av-F",
        "outputId": "de03ee1e-6d74-4027-fc62-1e829fee5a64"
      },
      "execution_count": 19,
      "outputs": [
        {
          "output_type": "stream",
          "name": "stdout",
          "text": [
            "(1, 'Brown', 'Denis', 2, 2250)\n",
            "(2, 'White', 'Kate', 3, 3120)\n",
            "(3, 'Black', 'Sarah', 2, 1640)\n",
            "(4, 'Smith', 'Helen', 1, 4500)\n",
            "(5, 'Stewart', 'Tom', 3, 2130)\n"
          ]
        }
      ]
    },
    {
      "cell_type": "code",
      "source": [
        "conn.execute(\"INSERT INTO managers VALUES(1,\t2);\")\n",
        "conn.execute(\"INSERT INTO managers VALUES(2,\t3);\")\n",
        "conn.execute(\"INSERT INTO managers VALUES(4,\t1);\")"
      ],
      "metadata": {
        "colab": {
          "base_uri": "https://localhost:8080/"
        },
        "id": "JTuF4cQRax5e",
        "outputId": "3a259ca8-fcab-4a8f-a346-8c33e8400d07"
      },
      "execution_count": 20,
      "outputs": [
        {
          "output_type": "execute_result",
          "data": {
            "text/plain": [
              "<sqlite3.Cursor at 0x7fce5610fc00>"
            ]
          },
          "metadata": {},
          "execution_count": 20
        }
      ]
    },
    {
      "cell_type": "code",
      "source": [
        "cursor = conn.execute(''' \n",
        "SELECT *\n",
        "FROM managers\n",
        "                          ''')\n",
        "\n",
        "for row in cursor:\n",
        "  print(row)"
      ],
      "metadata": {
        "colab": {
          "base_uri": "https://localhost:8080/"
        },
        "id": "whALFp1gazUV",
        "outputId": "767e5f8c-544d-425a-9b93-85975884cc3f"
      },
      "execution_count": 21,
      "outputs": [
        {
          "output_type": "stream",
          "name": "stdout",
          "text": [
            "(1, 2)\n",
            "(2, 3)\n",
            "(4, 1)\n"
          ]
        }
      ]
    },
    {
      "cell_type": "code",
      "source": [
        "# [EASY] Q1: Print all details of sales agents, who received a \n",
        "# higher than average agency_fee, along with the average agency_fee\n",
        "# PATTERN: SINGLE ROW SUB-QUERY\n",
        "\n",
        "cursor = conn.execute(''' \n",
        "SELECT *, (SELECT AVG(agency_fee) FROM sales_agents)\n",
        "FROM sales_agents\n",
        "WHERE agency_fee >\n",
        "(SELECT AVG(agency_fee) FROM sales_agents);\n",
        "\n",
        "                          ''')\n",
        "\n",
        "for row in cursor:\n",
        "  print(row)\n"
      ],
      "metadata": {
        "id": "ZW3YbXkxa1WC",
        "colab": {
          "base_uri": "https://localhost:8080/"
        },
        "outputId": "8b131f12-24df-4b40-c469-d6d30c21aec8"
      },
      "execution_count": 26,
      "outputs": [
        {
          "output_type": "stream",
          "name": "stdout",
          "text": [
            "(2, 'White', 'Kate', 3, 3120, 2728.0)\n",
            "(4, 'Smith', 'Helen', 1, 4500, 2728.0)\n"
          ]
        }
      ]
    },
    {
      "cell_type": "code",
      "source": [
        "# [MEDIUM] Q2. Find the second costliest painting without using LIMIT \n",
        "\n",
        "\n",
        "cursor = conn.execute(''' \n",
        "SELECT * from paintings WHERE price = (SELECT MAX(price) AS SecondCostliest \n",
        "FROM paintings\n",
        "WHERE price <\n",
        "(SELECT MAX(price) FROM paintings));\n",
        "                          ''')\n",
        "\n",
        "for row in cursor:\n",
        "  print(row)\n"
      ],
      "metadata": {
        "id": "xg19sW3Ba3P2",
        "colab": {
          "base_uri": "https://localhost:8080/"
        },
        "outputId": "3fc6b60c-83e7-4d35-da1d-2c5cc81164d9"
      },
      "execution_count": 28,
      "outputs": [
        {
          "output_type": "stream",
          "name": "stdout",
          "text": [
            "(4, 'Violin Lessons', 2, 6700)\n"
          ]
        }
      ]
    },
    {
      "cell_type": "code",
      "source": [
        "# [EASY] Q3: calculate the average agency fee\n",
        "# for those agents who are not managers.\n",
        "# PATTERN: MULTI-ROW SUB_QUERIES\n",
        "# TYpically used with IN, NOT IN, ANY, ALL, EXISTS, NOT EXISTS\n",
        "\n",
        "cursor = conn.execute(''' \n",
        "\n",
        "SELECT AVG(agency_fee)\n",
        "FROM sales_agents\n",
        "WHERE id NOT IN (SELECT id\n",
        "                 FROM managers);\n",
        "                          ''')\n",
        "\n",
        "for row in cursor:\n",
        "  print(row)\n"
      ],
      "metadata": {
        "id": "m1uQbbXVa84C",
        "colab": {
          "base_uri": "https://localhost:8080/"
        },
        "outputId": "2f6f477d-b1fd-4d1d-9105-f4c26f9fae41"
      },
      "execution_count": 29,
      "outputs": [
        {
          "output_type": "stream",
          "name": "stdout",
          "text": [
            "(1885.0,)\n"
          ]
        }
      ]
    },
    {
      "cell_type": "code",
      "source": [
        "# [EASY] Q4 Find the city and the number of paintings found in each of our galleries using sub-queries ONLY. Do NOT yses joins and group-bys.\n",
        "# PATTERN: CORRELATED SUBQUERY\n",
        "cursor = conn.execute(''' \n",
        "\n",
        "SELECT city,\n",
        " (SELECT count(*)\n",
        "  FROM paintings p\n",
        "  WHERE g.id = p.gallery_id) as total_paintings\n",
        "FROM galleries g;\n",
        "                          ''')\n",
        "\n",
        "for row in cursor:\n",
        "  print(row)"
      ],
      "metadata": {
        "id": "IAiXKr8HbA0_",
        "colab": {
          "base_uri": "https://localhost:8080/"
        },
        "outputId": "7fe8e0b5-cbff-4675-f4c8-97fca5b0c553"
      },
      "execution_count": 30,
      "outputs": [
        {
          "output_type": "stream",
          "name": "stdout",
          "text": [
            "('London', 2)\n",
            "('New York', 2)\n",
            "('Munich', 1)\n"
          ]
        }
      ]
    },
    {
      "cell_type": "code",
      "source": [
        "# Q5. [EASY-MEDIUM] Solve Q4 using JOINS & GROUPBY: typically more efficient\n",
        "# PATTERN/STRATGEY: SEE THE PARTIAL RESULTS OF JOINS\n",
        "cursor = conn.execute(''' \n",
        "SELECT g.city, COUNT(p.id)\n",
        "FROM galleries g JOIN paintings p ON p.gallery_id = g.id GROUP BY g.city;\n",
        "                          ''')\n",
        "\n",
        "for row in cursor:\n",
        "  print(row)"
      ],
      "metadata": {
        "id": "aTmXSG1TbG7O",
        "colab": {
          "base_uri": "https://localhost:8080/"
        },
        "outputId": "253a5fb3-30d1-4e4e-ec00-7563a40aac7c"
      },
      "execution_count": 36,
      "outputs": [
        {
          "output_type": "stream",
          "name": "stdout",
          "text": [
            "('London', 2)\n",
            "('Munich', 1)\n",
            "('New York', 2)\n"
          ]
        }
      ]
    },
    {
      "cell_type": "code",
      "source": [
        "#Q6. HOMEWORK [MEDIUM] Get information about those sales agents whose agency fee is equal or\n",
        "# higher than the average fee for their gallery in which the sales_agent beloings to.\n",
        "# HINT: Correlated sub-query\n",
        "cursor = conn.execute(''' \n",
        "\n",
        "                          ''')\n",
        "\n",
        "for row in cursor:\n",
        "  print(row)"
      ],
      "metadata": {
        "id": "3EDoh3k0bKvC"
      },
      "execution_count": null,
      "outputs": []
    },
    {
      "cell_type": "code",
      "source": [
        "# Good practice questions and solutions:\n",
        "# Refer : Medium and Hard questions at https://leetcode.com/problemset/database/\n",
        "# RefeR: https://www.studocu.com/in/document/marathwada-mitra-mandals-polytechnic/computer-science/leetcodesql-questions-with-solutions/32128690"
      ],
      "metadata": {
        "id": "XXj4pu4_bcIH"
      },
      "execution_count": null,
      "outputs": []
    }
  ]
}